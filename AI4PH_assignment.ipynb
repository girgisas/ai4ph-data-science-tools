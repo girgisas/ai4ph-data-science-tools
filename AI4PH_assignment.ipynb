{
 "cells": [
  {
   "cell_type": "markdown",
   "id": "5e21b1cf-890b-4b16-bf2f-15fe44aeb986",
   "metadata": {},
   "source": [
    "# Import Libraries"
   ]
  },
  {
   "cell_type": "code",
   "execution_count": 1,
   "id": "1fe58227-ea48-48f4-8568-17a78dc2917b",
   "metadata": {},
   "outputs": [
    {
     "name": "stdout",
     "output_type": "stream",
     "text": [
      "Requirement already satisfied: pandas in ./venv/lib/python3.11/site-packages (2.2.3)\n",
      "Requirement already satisfied: matplotlib in ./venv/lib/python3.11/site-packages (3.10.0)\n",
      "Requirement already satisfied: numpy>=1.23.2 in ./venv/lib/python3.11/site-packages (from pandas) (2.2.2)\n",
      "Requirement already satisfied: python-dateutil>=2.8.2 in ./venv/lib/python3.11/site-packages (from pandas) (2.9.0.post0)\n",
      "Requirement already satisfied: pytz>=2020.1 in ./venv/lib/python3.11/site-packages (from pandas) (2025.1)\n",
      "Requirement already satisfied: tzdata>=2022.7 in ./venv/lib/python3.11/site-packages (from pandas) (2025.1)\n",
      "Requirement already satisfied: contourpy>=1.0.1 in ./venv/lib/python3.11/site-packages (from matplotlib) (1.3.1)\n",
      "Requirement already satisfied: cycler>=0.10 in ./venv/lib/python3.11/site-packages (from matplotlib) (0.12.1)\n",
      "Requirement already satisfied: fonttools>=4.22.0 in ./venv/lib/python3.11/site-packages (from matplotlib) (4.56.0)\n",
      "Requirement already satisfied: kiwisolver>=1.3.1 in ./venv/lib/python3.11/site-packages (from matplotlib) (1.4.8)\n",
      "Requirement already satisfied: packaging>=20.0 in ./venv/lib/python3.11/site-packages (from matplotlib) (24.2)\n",
      "Requirement already satisfied: pillow>=8 in ./venv/lib/python3.11/site-packages (from matplotlib) (11.1.0)\n",
      "Requirement already satisfied: pyparsing>=2.3.1 in ./venv/lib/python3.11/site-packages (from matplotlib) (3.2.1)\n",
      "Requirement already satisfied: six>=1.5 in ./venv/lib/python3.11/site-packages (from python-dateutil>=2.8.2->pandas) (1.17.0)\n"
     ]
    }
   ],
   "source": [
    "!pip install pandas matplotlib\n",
    "import pandas as pd\n",
    "import matplotlib.pyplot as plt"
   ]
  },
  {
   "cell_type": "markdown",
   "id": "3f4100dd-d7c9-4db7-b48a-7e2c5d3aa19f",
   "metadata": {},
   "source": [
    "# Explore Black Bear Hunting Data"
   ]
  },
  {
   "cell_type": "code",
   "execution_count": 2,
   "id": "28349133-1755-45eb-8b83-ec72ca311a87",
   "metadata": {},
   "outputs": [
    {
     "data": {
      "text/html": [
       "<div>\n",
       "<style scoped>\n",
       "    .dataframe tbody tr th:only-of-type {\n",
       "        vertical-align: middle;\n",
       "    }\n",
       "\n",
       "    .dataframe tbody tr th {\n",
       "        vertical-align: top;\n",
       "    }\n",
       "\n",
       "    .dataframe thead th {\n",
       "        text-align: right;\n",
       "    }\n",
       "</style>\n",
       "<table border=\"1\" class=\"dataframe\">\n",
       "  <thead>\n",
       "    <tr style=\"text-align: right;\">\n",
       "      <th></th>\n",
       "      <th>WMU</th>\n",
       "      <th>Year</th>\n",
       "      <th>Active Hunters</th>\n",
       "      <th>Harvest</th>\n",
       "    </tr>\n",
       "  </thead>\n",
       "  <tbody>\n",
       "    <tr>\n",
       "      <th>0</th>\n",
       "      <td>2</td>\n",
       "      <td>2012</td>\n",
       "      <td>31</td>\n",
       "      <td>7</td>\n",
       "    </tr>\n",
       "    <tr>\n",
       "      <th>1</th>\n",
       "      <td>2</td>\n",
       "      <td>2013</td>\n",
       "      <td>39</td>\n",
       "      <td>11</td>\n",
       "    </tr>\n",
       "    <tr>\n",
       "      <th>2</th>\n",
       "      <td>2</td>\n",
       "      <td>2014</td>\n",
       "      <td>36</td>\n",
       "      <td>11</td>\n",
       "    </tr>\n",
       "    <tr>\n",
       "      <th>3</th>\n",
       "      <td>2</td>\n",
       "      <td>2015</td>\n",
       "      <td>50</td>\n",
       "      <td>10</td>\n",
       "    </tr>\n",
       "    <tr>\n",
       "      <th>4</th>\n",
       "      <td>2</td>\n",
       "      <td>2016</td>\n",
       "      <td>42</td>\n",
       "      <td>18</td>\n",
       "    </tr>\n",
       "    <tr>\n",
       "      <th>...</th>\n",
       "      <td>...</td>\n",
       "      <td>...</td>\n",
       "      <td>...</td>\n",
       "      <td>...</td>\n",
       "    </tr>\n",
       "    <tr>\n",
       "      <th>1063</th>\n",
       "      <td>Total</td>\n",
       "      <td>2019</td>\n",
       "      <td>28250</td>\n",
       "      <td>5301</td>\n",
       "    </tr>\n",
       "    <tr>\n",
       "      <th>1064</th>\n",
       "      <td>Total</td>\n",
       "      <td>2020</td>\n",
       "      <td>27291</td>\n",
       "      <td>4269</td>\n",
       "    </tr>\n",
       "    <tr>\n",
       "      <th>1065</th>\n",
       "      <td>Total</td>\n",
       "      <td>2021</td>\n",
       "      <td>25691</td>\n",
       "      <td>3785</td>\n",
       "    </tr>\n",
       "    <tr>\n",
       "      <th>1066</th>\n",
       "      <td>Total</td>\n",
       "      <td>2022</td>\n",
       "      <td>25746</td>\n",
       "      <td>4353</td>\n",
       "    </tr>\n",
       "    <tr>\n",
       "      <th>1067</th>\n",
       "      <td>Total</td>\n",
       "      <td>2023</td>\n",
       "      <td>25855</td>\n",
       "      <td>4841</td>\n",
       "    </tr>\n",
       "  </tbody>\n",
       "</table>\n",
       "<p>1068 rows × 4 columns</p>\n",
       "</div>"
      ],
      "text/plain": [
       "        WMU  Year  Active Hunters  Harvest\n",
       "0         2  2012              31        7\n",
       "1         2  2013              39       11\n",
       "2         2  2014              36       11\n",
       "3         2  2015              50       10\n",
       "4         2  2016              42       18\n",
       "...     ...   ...             ...      ...\n",
       "1063  Total  2019           28250     5301\n",
       "1064  Total  2020           27291     4269\n",
       "1065  Total  2021           25691     3785\n",
       "1066  Total  2022           25746     4353\n",
       "1067  Total  2023           25855     4841\n",
       "\n",
       "[1068 rows x 4 columns]"
      ]
     },
     "execution_count": 2,
     "metadata": {},
     "output_type": "execute_result"
    }
   ],
   "source": [
    "df = pd.read_csv(\"black_bear_2023.csv\") \n",
    "df"
   ]
  },
  {
   "cell_type": "code",
   "execution_count": 3,
   "id": "5fc96da3-1202-4f4f-8f33-353817ce7202",
   "metadata": {},
   "outputs": [
    {
     "name": "stdout",
     "output_type": "stream",
     "text": [
      "    Year  Active Hunters  Harvest\n",
      "0   2012           42436    10314\n",
      "1   2013           41782     9432\n",
      "2   2014           45750    10034\n",
      "3   2015           52586    13324\n",
      "4   2016           62960    16304\n",
      "5   2017           57436    12994\n",
      "6   2018           54276    11738\n",
      "7   2019           56500    10602\n",
      "8   2020           54582     8538\n",
      "9   2021           51362     7570\n",
      "10  2022           51490     8706\n",
      "11  2023           51710     9682\n"
     ]
    }
   ],
   "source": [
    "# Group by 'Year' and sum the values for 'Active Hunters' and 'Harvest'\n",
    "df_total = df.groupby(\"Year\")[[\"Active Hunters\", \"Harvest\"]].sum().reset_index()\n",
    "print(df_total)"
   ]
  },
  {
   "cell_type": "markdown",
   "id": "32cd9200-eae0-4b09-886f-00de03bd35b1",
   "metadata": {},
   "source": [
    "# Plot data"
   ]
  },
  {
   "cell_type": "code",
   "execution_count": 49,
   "id": "a1175c36-d7d2-4e10-b8a3-8b3de6961f88",
   "metadata": {},
   "outputs": [
    {
     "data": {
      "image/png": "[encoded data removed]",
      "text/plain": [
       "<Figure size 1000x600 with 1 Axes>"
      ]
     },
     "metadata": {},
     "output_type": "display_data"
    }
   ],
   "source": [
    "plt.figure(figsize=(10, 6))\n",
    "\n",
    "# Plot Active Hunters total per year\n",
    "plt.plot(df_total[\"Year\"], df_total[\"Active Hunters\"], label=\"Total Active Hunters\", marker='o', linestyle='-')\n",
    "\n",
    "# Plot Harvest total per year\n",
    "plt.plot(df_total[\"Year\"], df_total[\"Harvest\"], label=\"Total Harvest\", marker='s', linestyle='--')\n",
    "\n",
    "# Labels and title\n",
    "plt.xlabel(\"Year\")\n",
    "plt.ylabel(\"Total Count\")\n",
    "plt.title(\"Total Active Hunters & Harvest Per Year\")\n",
    "plt.legend()  # Show legend\n",
    "plt.grid(True) \n",
    "plt.show()"
   ]
  },
  {
   "cell_type": "code",
   "execution_count": 51,
   "id": "3c7c47f4-539b-4340-8d2b-599b985c720c",
   "metadata": {},
   "outputs": [
    {
     "data": {
      "text/html": [
       "<div>\n",
       "<style scoped>\n",
       "    .dataframe tbody tr th:only-of-type {\n",
       "        vertical-align: middle;\n",
       "    }\n",
       "\n",
       "    .dataframe tbody tr th {\n",
       "        vertical-align: top;\n",
       "    }\n",
       "\n",
       "    .dataframe thead th {\n",
       "        text-align: right;\n",
       "    }\n",
       "</style>\n",
       "<table border=\"1\" class=\"dataframe\">\n",
       "  <thead>\n",
       "    <tr style=\"text-align: right;\">\n",
       "      <th></th>\n",
       "      <th>Active Hunters</th>\n",
       "      <th>Harvest</th>\n",
       "    </tr>\n",
       "  </thead>\n",
       "  <tbody>\n",
       "    <tr>\n",
       "      <th>count</th>\n",
       "      <td>12.0</td>\n",
       "      <td>12.0</td>\n",
       "    </tr>\n",
       "    <tr>\n",
       "      <th>mean</th>\n",
       "      <td>51906.0</td>\n",
       "      <td>10770.0</td>\n",
       "    </tr>\n",
       "    <tr>\n",
       "      <th>std</th>\n",
       "      <td>6162.0</td>\n",
       "      <td>2454.0</td>\n",
       "    </tr>\n",
       "    <tr>\n",
       "      <th>min</th>\n",
       "      <td>41782.0</td>\n",
       "      <td>7570.0</td>\n",
       "    </tr>\n",
       "    <tr>\n",
       "      <th>25%</th>\n",
       "      <td>49959.0</td>\n",
       "      <td>9250.0</td>\n",
       "    </tr>\n",
       "    <tr>\n",
       "      <th>50%</th>\n",
       "      <td>52148.0</td>\n",
       "      <td>10174.0</td>\n",
       "    </tr>\n",
       "    <tr>\n",
       "      <th>75%</th>\n",
       "      <td>55062.0</td>\n",
       "      <td>12052.0</td>\n",
       "    </tr>\n",
       "    <tr>\n",
       "      <th>max</th>\n",
       "      <td>62960.0</td>\n",
       "      <td>16304.0</td>\n",
       "    </tr>\n",
       "  </tbody>\n",
       "</table>\n",
       "</div>"
      ],
      "text/plain": [
       "       Active Hunters  Harvest\n",
       "count            12.0     12.0\n",
       "mean          51906.0  10770.0\n",
       "std            6162.0   2454.0\n",
       "min           41782.0   7570.0\n",
       "25%           49959.0   9250.0\n",
       "50%           52148.0  10174.0\n",
       "75%           55062.0  12052.0\n",
       "max           62960.0  16304.0"
      ]
     },
     "execution_count": 51,
     "metadata": {},
     "output_type": "execute_result"
    }
   ],
   "source": [
    "stats = df_total[[\"Active Hunters\", \"Harvest\"]].describe().round(0)\n",
    "stats"
   ]
  },
  {
   "cell_type": "markdown",
   "id": "eaa1b4f2-a5a4-4e9f-bf74-8a045e3b409f",
   "metadata": {},
   "source": [
    "# Findings"
   ]
  },
  {
   "cell_type": "markdown",
   "id": "1f654391-0496-483c-a32d-53f13ed81ad8",
   "metadata": {},
   "source": [
    "1. The **peak** harvest season was in **2016**, with **62960** active hunters and **16304** black bears harvested.\n",
    "2. The **slowest** harvest season was in **2021**, with **51362** active hunters and **7570** black hears harvested, less than half of harvest in 2016.\n",
    "3. **On average per year**, from 2012-2023, there were **51906** active hunters and **10770** black bears harvested."
   ]
  },
  {
   "cell_type": "code",
   "execution_count": null,
   "id": "6700d828-7ede-4af0-bcae-242d43abe482",
   "metadata": {},
   "outputs": [],
   "source": []
  }
 ],
 "metadata": {
  "kernelspec": {
   "display_name": "Python 3 (ipykernel)",
   "language": "python",
   "name": "python3"
  },
  "language_info": {
   "codemirror_mode": {
    "name": "ipython",
    "version": 3
   },
   "file_extension": ".py",
   "mimetype": "text/x-python",
   "name": "python",
   "nbconvert_exporter": "python",
   "pygments_lexer": "ipython3",
   "version": "3.11.7"
  }
 },
 "nbformat": 4,
 "nbformat_minor": 5
}
